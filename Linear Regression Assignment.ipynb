{
 "cells": [
  {
   "cell_type": "markdown",
   "metadata": {},
   "source": [
    "# Linear Regression Assignment"
   ]
  },
  {
   "cell_type": "code",
   "execution_count": 6,
   "metadata": {
    "collapsed": true
   },
   "outputs": [],
   "source": [
    "import pandas as pd\n",
    "import numpy as np\n",
    "import matplotlib.pyplot as plt\n",
    "from sklearn import preprocessing\n",
    "%matplotlib inline"
   ]
  },
  {
   "cell_type": "code",
   "execution_count": 7,
   "metadata": {
    "scrolled": false
   },
   "outputs": [
    {
     "data": {
      "text/plain": [
       "[<matplotlib.lines.Line2D at 0x7f1a834218d0>]"
      ]
     },
     "execution_count": 7,
     "metadata": {},
     "output_type": "execute_result"
    },
    {
     "data": {
      "image/png": "[encoded data removed]",
      "text/plain": [
       "<matplotlib.figure.Figure at 0x7f1a83529f98>"
      ]
     },
     "metadata": {},
     "output_type": "display_data"
    }
   ],
   "source": [
    "data = pd.read_csv(\"ex1data2.txt\")\n",
    "# Normalizing\n",
    "min_max_scaler = preprocessing.MinMaxScaler()\n",
    "np_scaled = min_max_scaler.fit_transform(data)\n",
    "data = pd.DataFrame(np_scaled,columns=[\"c1\",\"c2\",\"c3\"])\n",
    "\n",
    "X_df = pd.DataFrame(data.c1)\n",
    "y_df = pd.DataFrame(data.c3)\n",
    "m = len(y_df)\n",
    "\n",
    "plt.figure(figsize=(6,4))\n",
    "plt.plot(X_df, y_df, 'kx')"
   ]
  },
  {
   "cell_type": "code",
   "execution_count": 8,
   "metadata": {
    "collapsed": true
   },
   "outputs": [],
   "source": [
    "# pd.DataFrame(data.iloc[:,0:2]).plot(kind='area')\n",
    "# data[[\"c1\",\"c2\"]])"
   ]
  },
  {
   "cell_type": "code",
   "execution_count": 9,
   "metadata": {
    "collapsed": true
   },
   "outputs": [],
   "source": [
    "def cost_function(X, y, theta):\n",
    "    m = len(y)\n",
    "    \n",
    "    ## Calculate the cost with the given parameters\n",
    "    J = np.sum((X.dot(theta)-y)**2)/2/m\n",
    "    \n",
    "    return J\n",
    "\n",
    "# cost_function(X, y, theta)\n",
    "\n",
    "def gradient_descent(X, y, theta, alpha, iterations):\n",
    "    \n",
    "    cost_history = [0] * iterations\n",
    "    \n",
    "    for iteration in range(iterations):\n",
    "        hypothesis = X.dot(theta)\n",
    "\n",
    "        loss = hypothesis-y\n",
    "        gradient = X.T.dot(loss)/m\n",
    "        theta = theta - alpha*gradient\n",
    "        cost = cost_function(X, y, theta)\n",
    "        cost_history[iteration] = cost\n",
    "\n",
    "    return theta, cost_history"
   ]
  },
  {
   "cell_type": "code",
   "execution_count": 10,
   "metadata": {},
   "outputs": [
    {
     "data": {
      "image/png": "[encoded data removed]",
      "text/plain": [
       "<matplotlib.figure.Figure at 0x7f1a833c8f98>"
      ]
     },
     "metadata": {},
     "output_type": "display_data"
    }
   ],
   "source": [
    "itera = 10000\n",
    "alpha = 0.01\n",
    "X_df['intercept'] = 1\n",
    "\n",
    "X = np.array(X_df)\n",
    "y = np.array(y_df).flatten()\n",
    "theta = np.array([0, 0])\n",
    "\n",
    "t,gd = gradient_descent(X,y,theta,alpha, itera)\n",
    "\n",
    "best_fit_x = np.linspace(-0.1, 1.1, 30)\n",
    "best_fit_y = [t[1] + t[0]*xx for xx in best_fit_x]\n",
    "\n",
    "plt.figure(figsize=(8,6))\n",
    "plt.plot(X_df.c1, y_df, '.')\n",
    "plt.plot(best_fit_x, best_fit_y, '-')\n",
    "plt.show()"
   ]
  },
  {
   "cell_type": "code",
   "execution_count": null,
   "metadata": {
    "collapsed": true
   },
   "outputs": [],
   "source": []
  }
 ],
 "metadata": {
  "kernelspec": {
   "display_name": "Python 3",
   "language": "python",
   "name": "python3"
  },
  "language_info": {
   "codemirror_mode": {
    "name": "ipython",
    "version": 3
   },
   "file_extension": ".py",
   "mimetype": "text/x-python",
   "name": "python",
   "nbconvert_exporter": "python",
   "pygments_lexer": "ipython3",
   "version": "3.6.3"
  }
 },
 "nbformat": 4,
 "nbformat_minor": 2
}
